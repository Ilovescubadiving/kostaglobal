{
  "nbformat": 4,
  "nbformat_minor": 0,
  "metadata": {
    "kernelspec": {
      "name": "python2",
      "display_name": "Python 2"
    },
    "colab": {
      "name": "Coding Companion to Intuitive Deep Learning Part 2 (Annotated).ipynb",
      "provenance": [],
      "collapsed_sections": [],
      "include_colab_link": true
    },
    "accelerator": "GPU"
  },
  "cells": [
    {
      "cell_type": "markdown",
      "metadata": {
        "id": "view-in-github",
        "colab_type": "text"
      },
      "source": [
        "<a href=\"https://colab.research.google.com/github/Ilovescubadiving/kostaglobal/blob/master/A%20study%20on%20Drum%20Transcription%20for%20master%20degree.ipynb\" target=\"_parent\"><img src=\"https://colab.research.google.com/assets/colab-badge.svg\" alt=\"Open In Colab\"/></a>"
      ]
    },
    {
      "cell_type": "markdown",
      "metadata": {
        "id": "5jSyRKuFxHYA",
        "colab_type": "text"
      },
      "source": [
        "# Coding Companion for Intuitive Deep Learning Part 2 (Annotated)"
      ]
    },
    {
      "cell_type": "markdown",
      "metadata": {
        "id": "fEh0jBpkxHYB",
        "colab_type": "text"
      },
      "source": [
        "The medium post for this notebook is [here](https://medium.com/@josephleeweien/build-your-first-convolutional-neural-network-to-recognize-images-84b9c78fe0ce).\n",
        "\n",
        "In this notebook, we'll go through the code for the coding companion for [Intuitive Deep Learning Part 2](https://medium.com/intuitive-deep-learning/intuitive-deep-learning-part-2-cnns-for-computer-vision-24992d050a27) to create your very first Convolutional neural network to predict what is contained within the image (airplane, automobile, bird, cat, deer, dog, frog, horse, ship, and truck). We will go through the following in this notebook:\n",
        "\n",
        "- Exploring and Processing the Data\n",
        "- Building and Training our Convolutional Neural Network\n",
        "- Testing out with your own images\n",
        "\n",
        "Note that the results you get might differ slightly from the blogpost as there is a degree of randomness in the way we split our dataset as well as the initialization of our neural network."
      ]
    },
    {
      "cell_type": "markdown",
      "metadata": {
        "id": "LKptN3boxHYC",
        "colab_type": "text"
      },
      "source": [
        "# Exploring and Processing the Data"
      ]
    },
    {
      "cell_type": "markdown",
      "metadata": {
        "id": "OTJA2faSxHYD",
        "colab_type": "text"
      },
      "source": [
        "We will first have to download our dataset, CIFAR-10. The details of the dataset are as follows:\n",
        "- Images to be recognized: Tiny images of 32 * 32 pixels\n",
        "- Labels: 10 possible labels (airplane, automobile, bird, cat, deer, dog, frog, horse, ship, and truck)\n",
        "- Dataset size: 60000 images, split into 50000 for training and 10000 for testing"
      ]
    },
    {
      "cell_type": "code",
      "metadata": {
        "id": "okJ9ND6exHYE",
        "colab_type": "code",
        "colab": {
          "base_uri": "https://localhost:8080/",
          "height": 89
        },
        "outputId": "a9159d1e-46df-43ea-e9b2-6b4a822aa88f"
      },
      "source": [
        "from keras.datasets import cifar10\n",
        "(x_train, y_train), (x_test, y_test) = cifar10.load_data()"
      ],
      "execution_count": 1,
      "outputs": [
        {
          "output_type": "stream",
          "text": [
            "Using TensorFlow backend.\n"
          ],
          "name": "stderr"
        },
        {
          "output_type": "stream",
          "text": [
            "Downloading data from https://www.cs.toronto.edu/~kriz/cifar-10-python.tar.gz\n",
            "170500096/170498071 [==============================] - 9s 0us/step\n",
            "170508288/170498071 [==============================] - 9s 0us/step\n"
          ],
          "name": "stdout"
        }
      ]
    },
    {
      "cell_type": "code",
      "metadata": {
        "id": "PARA7fkWxHYI",
        "colab_type": "code",
        "colab": {
          "base_uri": "https://localhost:8080/",
          "height": 35
        },
        "outputId": "0e9e6eed-f79d-4b63-ea0b-c4f89b4c2d5e"
      },
      "source": [
        "print('x_train shape:', x_train.shape)"
      ],
      "execution_count": 2,
      "outputs": [
        {
          "output_type": "stream",
          "text": [
            "('x_train shape:', (50000, 32, 32, 3))\n"
          ],
          "name": "stdout"
        }
      ]
    },
    {
      "cell_type": "code",
      "metadata": {
        "id": "LRc4nS_-xHYK",
        "colab_type": "code",
        "colab": {
          "base_uri": "https://localhost:8080/",
          "height": 35
        },
        "outputId": "4212b4e2-d931-49e7-880a-cbee508060c6"
      },
      "source": [
        "print('y_train shape:', y_train.shape)"
      ],
      "execution_count": 3,
      "outputs": [
        {
          "output_type": "stream",
          "text": [
            "('y_train shape:', (50000, 1))\n"
          ],
          "name": "stdout"
        }
      ]
    },
    {
      "cell_type": "markdown",
      "metadata": {
        "id": "V5qBaEYexHYN",
        "colab_type": "text"
      },
      "source": [
        "We will now take a look at an individual image. If we print out the first image of our training dataset (x_train[0]):"
      ]
    },
    {
      "cell_type": "code",
      "metadata": {
        "id": "hHjn8sBTxHYO",
        "colab_type": "code",
        "colab": {
          "base_uri": "https://localhost:8080/",
          "height": 899
        },
        "outputId": "550b2dfd-8117-47ac-9393-945a93c84587"
      },
      "source": [
        "print(x_train[0])"
      ],
      "execution_count": 4,
      "outputs": [
        {
          "output_type": "stream",
          "text": [
            "[[[ 59  62  63]\n",
            "  [ 43  46  45]\n",
            "  [ 50  48  43]\n",
            "  ...\n",
            "  [158 132 108]\n",
            "  [152 125 102]\n",
            "  [148 124 103]]\n",
            "\n",
            " [[ 16  20  20]\n",
            "  [  0   0   0]\n",
            "  [ 18   8   0]\n",
            "  ...\n",
            "  [123  88  55]\n",
            "  [119  83  50]\n",
            "  [122  87  57]]\n",
            "\n",
            " [[ 25  24  21]\n",
            "  [ 16   7   0]\n",
            "  [ 49  27   8]\n",
            "  ...\n",
            "  [118  84  50]\n",
            "  [120  84  50]\n",
            "  [109  73  42]]\n",
            "\n",
            " ...\n",
            "\n",
            " [[208 170  96]\n",
            "  [201 153  34]\n",
            "  [198 161  26]\n",
            "  ...\n",
            "  [160 133  70]\n",
            "  [ 56  31   7]\n",
            "  [ 53  34  20]]\n",
            "\n",
            " [[180 139  96]\n",
            "  [173 123  42]\n",
            "  [186 144  30]\n",
            "  ...\n",
            "  [184 148  94]\n",
            "  [ 97  62  34]\n",
            "  [ 83  53  34]]\n",
            "\n",
            " [[177 144 116]\n",
            "  [168 129  94]\n",
            "  [179 142  87]\n",
            "  ...\n",
            "  [216 184 140]\n",
            "  [151 118  84]\n",
            "  [123  92  72]]]\n"
          ],
          "name": "stdout"
        }
      ]
    },
    {
      "cell_type": "markdown",
      "metadata": {
        "id": "lOEE9chRxHYQ",
        "colab_type": "text"
      },
      "source": [
        "In order to see the image as an image rather than a series of pixel value numbers, we will use a function from matplotlib:"
      ]
    },
    {
      "cell_type": "code",
      "metadata": {
        "id": "oq2c9xVGxHYR",
        "colab_type": "code",
        "colab": {}
      },
      "source": [
        "import matplotlib.pyplot as plt\n",
        "%matplotlib inline"
      ],
      "execution_count": 0,
      "outputs": []
    },
    {
      "cell_type": "code",
      "metadata": {
        "id": "7FIcuWcNxHYU",
        "colab_type": "code",
        "colab": {
          "base_uri": "https://localhost:8080/",
          "height": 269
        },
        "outputId": "57ce2b32-6df4-4922-f5a4-a1be53568e4f"
      },
      "source": [
        "img = plt.imshow(x_train[0])"
      ],
      "execution_count": 6,
      "outputs": [
        {
          "output_type": "display_data",
          "data": {
            "image/png": "[encoded data removed]",
            "text/plain": [
              "<Figure size 432x288 with 1 Axes>"
            ]
          },
          "metadata": {
            "tags": []
          }
        }
      ]
    },
    {
      "cell_type": "code",
      "metadata": {
        "id": "ZzYbTe7SxHYW",
        "colab_type": "code",
        "colab": {
          "base_uri": "https://localhost:8080/",
          "height": 35
        },
        "outputId": "89466dd9-94f1-416e-ba0f-855f58d545b4"
      },
      "source": [
        "print('The label is:', y_train[0])"
      ],
      "execution_count": 7,
      "outputs": [
        {
          "output_type": "stream",
          "text": [
            "('The label is:', array([6], dtype=uint8))\n"
          ],
          "name": "stdout"
        }
      ]
    },
    {
      "cell_type": "markdown",
      "metadata": {
        "id": "Amz1C2KWxHYY",
        "colab_type": "text"
      },
      "source": [
        "Let's explore one more image, the second image (with index 1 instead of 0) in our training dataset:"
      ]
    },
    {
      "cell_type": "code",
      "metadata": {
        "id": "LqfRoMIuxHYZ",
        "colab_type": "code",
        "colab": {
          "base_uri": "https://localhost:8080/",
          "height": 269
        },
        "outputId": "d3ae7b46-b3e8-4513-de97-eec48e59aa02"
      },
      "source": [
        "img = plt.imshow(x_train[1])"
      ],
      "execution_count": 8,
      "outputs": [
        {
          "output_type": "display_data",
          "data": {
            "image/png": "[encoded data removed]",
            "text/plain": [
              "<Figure size 432x288 with 1 Axes>"
            ]
          },
          "metadata": {
            "tags": []
          }
        }
      ]
    },
    {
      "cell_type": "code",
      "metadata": {
        "id": "gYD81yXrxHYb",
        "colab_type": "code",
        "colab": {
          "base_uri": "https://localhost:8080/",
          "height": 35
        },
        "outputId": "a2e91acb-0277-43fc-839f-228f807d5842"
      },
      "source": [
        "print('The label is:', y_train[1])"
      ],
      "execution_count": 9,
      "outputs": [
        {
          "output_type": "stream",
          "text": [
            "('The label is:', array([9], dtype=uint8))\n"
          ],
          "name": "stdout"
        }
      ]
    },
    {
      "cell_type": "markdown",
      "metadata": {
        "id": "7ZWP7zT_xHYd",
        "colab_type": "text"
      },
      "source": [
        "What we really want is the probability of each of the 10 different classes. For that, we need 10 output neurons in our neural network. Since we have 10 output neurons, our labels must match this as well. To do this, we convert the label into a set of 10 numbers where each number represents if the image belongs to that class or not. So if an image belongs to the first class, the first number of this set will be a 1 and all other numbers in this set will be a 0. To convert our labels to our one-hot encoding, we use a function in Keras:"
      ]
    },
    {
      "cell_type": "code",
      "metadata": {
        "id": "lqu8XmFExHYd",
        "colab_type": "code",
        "colab": {}
      },
      "source": [
        "import keras\n",
        "y_train_one_hot = keras.utils.to_categorical(y_train, 10)\n",
        "y_test_one_hot = keras.utils.to_categorical(y_test, 10)"
      ],
      "execution_count": 0,
      "outputs": []
    },
    {
      "cell_type": "code",
      "metadata": {
        "id": "04sLtom7xHYf",
        "colab_type": "code",
        "colab": {
          "base_uri": "https://localhost:8080/",
          "height": 35
        },
        "outputId": "df818c31-950a-45b4-d721-fbec508359c5"
      },
      "source": [
        "print('The one hot label is:', y_train_one_hot[1])"
      ],
      "execution_count": 11,
      "outputs": [
        {
          "output_type": "stream",
          "text": [
            "('The one hot label is:', array([0., 0., 0., 0., 0., 0., 0., 0., 0., 1.], dtype=float32))\n"
          ],
          "name": "stdout"
        }
      ]
    },
    {
      "cell_type": "markdown",
      "metadata": {
        "id": "34OdE8_zxHYh",
        "colab_type": "text"
      },
      "source": [
        "A common step we do is to let the values to be between 0 and 1, which will aid in the training of our neural network. Since our pixel values already take the values between 0 and 255, we simply need to divide by 255."
      ]
    },
    {
      "cell_type": "code",
      "metadata": {
        "id": "MoCcrQIXxHYi",
        "colab_type": "code",
        "colab": {}
      },
      "source": [
        "x_train = x_train.astype('float32')\n",
        "x_test = x_test.astype('float32')\n",
        "x_train = x_train / 255\n",
        "x_test = x_test / 255"
      ],
      "execution_count": 0,
      "outputs": []
    },
    {
      "cell_type": "code",
      "metadata": {
        "id": "Igu9CAdsxHYk",
        "colab_type": "code",
        "colab": {
          "base_uri": "https://localhost:8080/",
          "height": 899
        },
        "outputId": "264bfaf2-81f6-4267-fdeb-aee1c43fd533"
      },
      "source": [
        "x_train[0]"
      ],
      "execution_count": 13,
      "outputs": [
        {
          "output_type": "execute_result",
          "data": {
            "text/plain": [
              "array([[[0.23137255, 0.24313726, 0.24705882],\n",
              "        [0.16862746, 0.18039216, 0.1764706 ],\n",
              "        [0.19607843, 0.1882353 , 0.16862746],\n",
              "        ...,\n",
              "        [0.61960787, 0.5176471 , 0.42352942],\n",
              "        [0.59607846, 0.49019608, 0.4       ],\n",
              "        [0.5803922 , 0.4862745 , 0.40392157]],\n",
              "\n",
              "       [[0.0627451 , 0.07843138, 0.07843138],\n",
              "        [0.        , 0.        , 0.        ],\n",
              "        [0.07058824, 0.03137255, 0.        ],\n",
              "        ...,\n",
              "        [0.48235294, 0.34509805, 0.21568628],\n",
              "        [0.46666667, 0.3254902 , 0.19607843],\n",
              "        [0.47843137, 0.34117648, 0.22352941]],\n",
              "\n",
              "       [[0.09803922, 0.09411765, 0.08235294],\n",
              "        [0.0627451 , 0.02745098, 0.        ],\n",
              "        [0.19215687, 0.10588235, 0.03137255],\n",
              "        ...,\n",
              "        [0.4627451 , 0.32941177, 0.19607843],\n",
              "        [0.47058824, 0.32941177, 0.19607843],\n",
              "        [0.42745098, 0.28627452, 0.16470589]],\n",
              "\n",
              "       ...,\n",
              "\n",
              "       [[0.8156863 , 0.6666667 , 0.3764706 ],\n",
              "        [0.7882353 , 0.6       , 0.13333334],\n",
              "        [0.7764706 , 0.6313726 , 0.10196079],\n",
              "        ...,\n",
              "        [0.627451  , 0.52156866, 0.27450982],\n",
              "        [0.21960784, 0.12156863, 0.02745098],\n",
              "        [0.20784314, 0.13333334, 0.07843138]],\n",
              "\n",
              "       [[0.7058824 , 0.54509807, 0.3764706 ],\n",
              "        [0.6784314 , 0.48235294, 0.16470589],\n",
              "        [0.7294118 , 0.5647059 , 0.11764706],\n",
              "        ...,\n",
              "        [0.72156864, 0.5803922 , 0.36862746],\n",
              "        [0.38039216, 0.24313726, 0.13333334],\n",
              "        [0.3254902 , 0.20784314, 0.13333334]],\n",
              "\n",
              "       [[0.69411767, 0.5647059 , 0.45490196],\n",
              "        [0.65882355, 0.5058824 , 0.36862746],\n",
              "        [0.7019608 , 0.5568628 , 0.34117648],\n",
              "        ...,\n",
              "        [0.84705883, 0.72156864, 0.54901963],\n",
              "        [0.5921569 , 0.4627451 , 0.32941177],\n",
              "        [0.48235294, 0.36078432, 0.28235295]]], dtype=float32)"
            ]
          },
          "metadata": {
            "tags": []
          },
          "execution_count": 13
        }
      ]
    },
    {
      "cell_type": "markdown",
      "metadata": {
        "id": "tQBWXKOoxHYm",
        "colab_type": "text"
      },
      "source": [
        "# Building and Training our Convolutional Neural Network"
      ]
    },
    {
      "cell_type": "markdown",
      "metadata": {
        "id": "PIubpKaBxHYm",
        "colab_type": "text"
      },
      "source": [
        "Similar to our first notebook, we need to define the architecture (template) first before fitting the best numbers into this architecture by learning from the data. In summary, the architecture we will build in this post is this:\n",
        "\n",
        "- Conv Layer (Filter size 3x3, Depth 32)\n",
        "- Conv Layer (Filter size 3x3, Depth 32)\n",
        "- Max Pool Layer (Filter size 2x2)\n",
        "- Dropout Layer (Prob of dropout 0.25)\n",
        "- Conv Layer (Filter size 3x3, Depth 64)\n",
        "- Conv Layer (Filter size 3x3, Depth 64)\n",
        "- Max Pool Layer (Filter size 2x2)\n",
        "- Dropout Layer (Prob of dropout 0.25)\n",
        "- FC Layer (512 neurons)\n",
        "- Dropout Layer (Prob of dropout 0.5)\n",
        "- FC Layer, Softmax (10 neurons)\n",
        "\n",
        "For an intuition behind these layers, please refer to Intuitive Deep Learning [Part 2](https://medium.com/intuitive-deep-learning/intuitive-deep-learning-part-2-cnns-for-computer-vision-24992d050a27).\n",
        "\n",
        "We will be using Keras to build our architecture. Let's import the code from Keras that we will need to use:"
      ]
    },
    {
      "cell_type": "code",
      "metadata": {
        "id": "pvFjjC4_xHYn",
        "colab_type": "code",
        "colab": {}
      },
      "source": [
        "from keras.models import Sequential\n",
        "from keras.layers import Dense, Dropout, Flatten, Conv2D, MaxPooling2D"
      ],
      "execution_count": 0,
      "outputs": []
    },
    {
      "cell_type": "markdown",
      "metadata": {
        "id": "Un5q8zuAxHYo",
        "colab_type": "text"
      },
      "source": [
        "We then call an empty Sequential model and 'add' to this model layer by layer:"
      ]
    },
    {
      "cell_type": "code",
      "metadata": {
        "id": "Vfw5NDZJxHYp",
        "colab_type": "code",
        "colab": {
          "base_uri": "https://localhost:8080/",
          "height": 71
        },
        "outputId": "0494286c-b342-4029-9e66-4a4f99c6517d"
      },
      "source": [
        "model = Sequential()"
      ],
      "execution_count": 15,
      "outputs": [
        {
          "output_type": "stream",
          "text": [
            "WARNING: Logging before flag parsing goes to stderr.\n",
            "W0930 15:27:27.621830 140182022801280 deprecation_wrapper.py:119] From /usr/local/lib/python2.7/dist-packages/keras/backend/tensorflow_backend.py:74: The name tf.get_default_graph is deprecated. Please use tf.compat.v1.get_default_graph instead.\n",
            "\n"
          ],
          "name": "stderr"
        }
      ]
    },
    {
      "cell_type": "markdown",
      "metadata": {
        "id": "zbqnnZejxHYr",
        "colab_type": "text"
      },
      "source": [
        "The first layer is a conv layer with filter size 3x3, stride size 1 (in both dimensions), and depth 32. The padding is the 'same' and the activation is 'relu' (these two settings will apply to all layers in our CNN). We add this layer to our empty sequential model using the function model.add().\n",
        "\n",
        "The first number 32 refers to the depth. The next pair of numbers (3,3) refer to the filter width and size. Then, we specify activation which is 'relu' and padding which is 'same'. Notice that we did not specify stride. This is because stride=1 is a default setting, and unless we want to change this setting, we need not specify it.\n",
        "\n",
        "If you recall, we also need to specify an input size for our first layer; subsequent layers does not have this specification since they can infer the input size from the output size of the previous layer.\n",
        "\n",
        "All that being said, our first layer in code looks like this:"
      ]
    },
    {
      "cell_type": "code",
      "metadata": {
        "id": "eQ90PCzaxHYr",
        "colab_type": "code",
        "colab": {
          "base_uri": "https://localhost:8080/",
          "height": 89
        },
        "outputId": "20662d6c-a123-41c0-c68d-21c7cc6a07fd"
      },
      "source": [
        "model.add(Conv2D(32, (3, 3), activation='relu', padding='same', input_shape=(32,32,3)))"
      ],
      "execution_count": 16,
      "outputs": [
        {
          "output_type": "stream",
          "text": [
            "W0930 15:27:41.325329 140182022801280 deprecation_wrapper.py:119] From /usr/local/lib/python2.7/dist-packages/keras/backend/tensorflow_backend.py:517: The name tf.placeholder is deprecated. Please use tf.compat.v1.placeholder instead.\n",
            "\n",
            "W0930 15:27:41.336201 140182022801280 deprecation_wrapper.py:119] From /usr/local/lib/python2.7/dist-packages/keras/backend/tensorflow_backend.py:4138: The name tf.random_uniform is deprecated. Please use tf.random.uniform instead.\n",
            "\n"
          ],
          "name": "stderr"
        }
      ]
    },
    {
      "cell_type": "markdown",
      "metadata": {
        "id": "Ww7zXMeAxHYt",
        "colab_type": "text"
      },
      "source": [
        "Our second layer looks like this in code (we don't need to specify the input size):"
      ]
    },
    {
      "cell_type": "code",
      "metadata": {
        "id": "_77-PNlrxHYv",
        "colab_type": "code",
        "colab": {}
      },
      "source": [
        "model.add(Conv2D(32, (3, 3), activation='relu', padding='same'))"
      ],
      "execution_count": 0,
      "outputs": []
    },
    {
      "cell_type": "markdown",
      "metadata": {
        "id": "1NfFMpPexHY0",
        "colab_type": "text"
      },
      "source": [
        "The next layer is a max pooling layer with pool size 2 x 2 and stride 2 (in both dimensions). The default for a max pooling layer stride is the pool size, so we don't have to specify the stride:"
      ]
    },
    {
      "cell_type": "code",
      "metadata": {
        "id": "2cic-ESMxHY1",
        "colab_type": "code",
        "colab": {
          "base_uri": "https://localhost:8080/",
          "height": 53
        },
        "outputId": "5f308f6c-46c8-4550-fd8e-8926f4fd9cb1"
      },
      "source": [
        "model.add(MaxPooling2D(pool_size=(2, 2)))"
      ],
      "execution_count": 18,
      "outputs": [
        {
          "output_type": "stream",
          "text": [
            "W0930 15:27:51.535238 140182022801280 deprecation_wrapper.py:119] From /usr/local/lib/python2.7/dist-packages/keras/backend/tensorflow_backend.py:3976: The name tf.nn.max_pool is deprecated. Please use tf.nn.max_pool2d instead.\n",
            "\n"
          ],
          "name": "stderr"
        }
      ]
    },
    {
      "cell_type": "markdown",
      "metadata": {
        "id": "fFPv3UQ4xHY3",
        "colab_type": "text"
      },
      "source": [
        "Lastly, we add a dropout layer with probability 0.25 of dropout so as to prevent overfitting:"
      ]
    },
    {
      "cell_type": "code",
      "metadata": {
        "id": "I7IeyZOxxHY4",
        "colab_type": "code",
        "colab": {
          "base_uri": "https://localhost:8080/",
          "height": 107
        },
        "outputId": "f51cc517-68b4-4e3c-a428-38cef4342b19"
      },
      "source": [
        "model.add(Dropout(0.25))"
      ],
      "execution_count": 19,
      "outputs": [
        {
          "output_type": "stream",
          "text": [
            "W0930 15:27:55.966217 140182022801280 deprecation_wrapper.py:119] From /usr/local/lib/python2.7/dist-packages/keras/backend/tensorflow_backend.py:133: The name tf.placeholder_with_default is deprecated. Please use tf.compat.v1.placeholder_with_default instead.\n",
            "\n",
            "W0930 15:27:55.981653 140182022801280 deprecation.py:506] From /usr/local/lib/python2.7/dist-packages/keras/backend/tensorflow_backend.py:3445: calling dropout (from tensorflow.python.ops.nn_ops) with keep_prob is deprecated and will be removed in a future version.\n",
            "Instructions for updating:\n",
            "Please use `rate` instead of `keep_prob`. Rate should be set to `rate = 1 - keep_prob`.\n"
          ],
          "name": "stderr"
        }
      ]
    },
    {
      "cell_type": "markdown",
      "metadata": {
        "id": "EwXclLRExHY6",
        "colab_type": "text"
      },
      "source": [
        "And there we have it, our first four layers in code. The next four layers look really similar (except the depth of the conv layer is 64 instead of 32):"
      ]
    },
    {
      "cell_type": "code",
      "metadata": {
        "id": "0khN2bHSxHY7",
        "colab_type": "code",
        "colab": {}
      },
      "source": [
        "model.add(Conv2D(64, (3, 3), activation='relu', padding='same'))\n",
        "model.add(Conv2D(64, (3, 3), activation='relu', padding='same'))\n",
        "model.add(MaxPooling2D(pool_size=(2, 2)))\n",
        "model.add(Dropout(0.25))"
      ],
      "execution_count": 0,
      "outputs": []
    },
    {
      "cell_type": "markdown",
      "metadata": {
        "id": "VHSrIDblxHY9",
        "colab_type": "text"
      },
      "source": [
        "Lastly, we have to code in our fully connected layer, which is similar to what we've done in our previous post, [Build your first Neural Network](https://medium.com/intuitive-deep-learning/build-your-first-neural-network-to-predict-house-prices-with-keras-eb5db60232c). However, at this point, our neurons are spatially arranged in a cube-like format rather than in just one row. To make this cube-like format of neurons into one row, we have to first flatten it. We do so by adding a Flatten layer:"
      ]
    },
    {
      "cell_type": "code",
      "metadata": {
        "id": "PlcU1-SrxHY9",
        "colab_type": "code",
        "colab": {}
      },
      "source": [
        "model.add(Flatten())"
      ],
      "execution_count": 0,
      "outputs": []
    },
    {
      "cell_type": "markdown",
      "metadata": {
        "id": "D5sxed97xHY_",
        "colab_type": "text"
      },
      "source": [
        "Now, we have a dense (FC) layer of 512 neurons with relu activation:"
      ]
    },
    {
      "cell_type": "code",
      "metadata": {
        "id": "I8k8d4gSxHY_",
        "colab_type": "code",
        "colab": {}
      },
      "source": [
        "model.add(Dense(512, activation='relu'))"
      ],
      "execution_count": 0,
      "outputs": []
    },
    {
      "cell_type": "markdown",
      "metadata": {
        "id": "sg7MFbDDxHZC",
        "colab_type": "text"
      },
      "source": [
        "We add another dropout of probability 0.5:"
      ]
    },
    {
      "cell_type": "code",
      "metadata": {
        "id": "C18kuduoxHZC",
        "colab_type": "code",
        "colab": {}
      },
      "source": [
        "model.add(Dropout(0.5))"
      ],
      "execution_count": 0,
      "outputs": []
    },
    {
      "cell_type": "markdown",
      "metadata": {
        "id": "u9Yuw_awxHZF",
        "colab_type": "text"
      },
      "source": [
        "And lastly, we have a dense (FC) layer with 10 neurons and softmax activation:"
      ]
    },
    {
      "cell_type": "code",
      "metadata": {
        "id": "IwPTWrXTxHZG",
        "colab_type": "code",
        "colab": {}
      },
      "source": [
        "model.add(Dense(10, activation='softmax'))"
      ],
      "execution_count": 0,
      "outputs": []
    },
    {
      "cell_type": "markdown",
      "metadata": {
        "id": "lbaeqJhyxHZJ",
        "colab_type": "text"
      },
      "source": [
        "And we're done with specifying our architecture! To see a summary of the full architecture, we run the code:"
      ]
    },
    {
      "cell_type": "code",
      "metadata": {
        "id": "tTC6ozxCxHZL",
        "colab_type": "code",
        "colab": {
          "base_uri": "https://localhost:8080/",
          "height": 575
        },
        "outputId": "4f7e374d-1d9c-41b2-cc5b-0d7a6db44b17"
      },
      "source": [
        "model.summary()"
      ],
      "execution_count": 25,
      "outputs": [
        {
          "output_type": "stream",
          "text": [
            "_________________________________________________________________\n",
            "Layer (type)                 Output Shape              Param #   \n",
            "=================================================================\n",
            "conv2d_1 (Conv2D)            (None, 32, 32, 32)        896       \n",
            "_________________________________________________________________\n",
            "conv2d_2 (Conv2D)            (None, 32, 32, 32)        9248      \n",
            "_________________________________________________________________\n",
            "max_pooling2d_1 (MaxPooling2 (None, 16, 16, 32)        0         \n",
            "_________________________________________________________________\n",
            "dropout_1 (Dropout)          (None, 16, 16, 32)        0         \n",
            "_________________________________________________________________\n",
            "conv2d_3 (Conv2D)            (None, 16, 16, 64)        18496     \n",
            "_________________________________________________________________\n",
            "conv2d_4 (Conv2D)            (None, 16, 16, 64)        36928     \n",
            "_________________________________________________________________\n",
            "max_pooling2d_2 (MaxPooling2 (None, 8, 8, 64)          0         \n",
            "_________________________________________________________________\n",
            "dropout_2 (Dropout)          (None, 8, 8, 64)          0         \n",
            "_________________________________________________________________\n",
            "flatten_1 (Flatten)          (None, 4096)              0         \n",
            "_________________________________________________________________\n",
            "dense_1 (Dense)              (None, 512)               2097664   \n",
            "_________________________________________________________________\n",
            "dropout_3 (Dropout)          (None, 512)               0         \n",
            "_________________________________________________________________\n",
            "dense_2 (Dense)              (None, 10)                5130      \n",
            "=================================================================\n",
            "Total params: 2,168,362\n",
            "Trainable params: 2,168,362\n",
            "Non-trainable params: 0\n",
            "_________________________________________________________________\n"
          ],
          "name": "stdout"
        }
      ]
    },
    {
      "cell_type": "markdown",
      "metadata": {
        "id": "pvUMtrjSxHZP",
        "colab_type": "text"
      },
      "source": [
        "We now fill in the best numbers after we've specified our architecture. We'll compile the model with our settings below.\n",
        "\n",
        "The loss function we use is called categorical cross entropy, which is applicable for a classification problem of many classes. The optimizer we use here is Adam. We haven't gone through the intuition of Adam yet, but know that Adam is simply a type of stochastic gradient descent (with a few modifications) so that it trains better. Lastly, we want to track the accuracy of our model."
      ]
    },
    {
      "cell_type": "code",
      "metadata": {
        "id": "5RGE5kohxHZQ",
        "colab_type": "code",
        "colab": {
          "base_uri": "https://localhost:8080/",
          "height": 89
        },
        "outputId": "704f3e24-248a-4496-8a42-ec98b7c4a778"
      },
      "source": [
        "model.compile(loss='categorical_crossentropy',\n",
        "              optimizer='adam',\n",
        "              metrics=['accuracy'])"
      ],
      "execution_count": 26,
      "outputs": [
        {
          "output_type": "stream",
          "text": [
            "W0930 15:28:32.841006 140182022801280 deprecation_wrapper.py:119] From /usr/local/lib/python2.7/dist-packages/keras/optimizers.py:790: The name tf.train.Optimizer is deprecated. Please use tf.compat.v1.train.Optimizer instead.\n",
            "\n",
            "W0930 15:28:32.872102 140182022801280 deprecation_wrapper.py:119] From /usr/local/lib/python2.7/dist-packages/keras/backend/tensorflow_backend.py:3295: The name tf.log is deprecated. Please use tf.math.log instead.\n",
            "\n"
          ],
          "name": "stderr"
        }
      ]
    },
    {
      "cell_type": "markdown",
      "metadata": {
        "id": "JGAtSSJzxHZS",
        "colab_type": "text"
      },
      "source": [
        "And now, it's time to run our training.\n",
        "\n",
        "We train our model with batch size 32 and 20 epochs. We use the setting validation_split=0.2 instead of validation_data. With this shortcut, we did not need to split our dataset into a train and validation set at the start! Instead, we simply specify how much of our dataset will be used as a validation set. In this case, 20% of our dataset is used as a validation set. This will take a while on a CPU, so you might want to start training and get some coffee before coming back."
      ]
    },
    {
      "cell_type": "code",
      "metadata": {
        "id": "3kB_YrxpxHZT",
        "colab_type": "code",
        "colab": {
          "base_uri": "https://localhost:8080/",
          "height": 809
        },
        "outputId": "13a349ce-2edb-4c5e-bbfd-7a68bc4b3b94"
      },
      "source": [
        "hist = model.fit(x_train, y_train_one_hot, \n",
        "           batch_size=32, epochs=20, \n",
        "           validation_split=0.2)"
      ],
      "execution_count": 27,
      "outputs": [
        {
          "output_type": "stream",
          "text": [
            "W0930 15:28:40.099664 140182022801280 deprecation.py:323] From /usr/local/lib/python2.7/dist-packages/tensorflow/python/ops/math_grad.py:1250: where (from tensorflow.python.ops.array_ops) is deprecated and will be removed in a future version.\n",
            "Instructions for updating:\n",
            "Use tf.where in 2.0, which has the same broadcast rule as np.where\n"
          ],
          "name": "stderr"
        },
        {
          "output_type": "stream",
          "text": [
            "Train on 40000 samples, validate on 10000 samples\n",
            "Epoch 1/20\n",
            "40000/40000 [==============================] - 18s 447us/step - loss: 1.5375 - acc: 0.4411 - val_loss: 1.2280 - val_acc: 0.5661\n",
            "Epoch 2/20\n",
            "40000/40000 [==============================] - 10s 259us/step - loss: 1.1510 - acc: 0.5900 - val_loss: 0.9378 - val_acc: 0.6678\n",
            "Epoch 3/20\n",
            "40000/40000 [==============================] - 10s 258us/step - loss: 0.9824 - acc: 0.6533 - val_loss: 0.8415 - val_acc: 0.7033\n",
            "Epoch 4/20\n",
            "40000/40000 [==============================] - 10s 256us/step - loss: 0.8753 - acc: 0.6912 - val_loss: 0.8068 - val_acc: 0.7129\n",
            "Epoch 5/20\n",
            "40000/40000 [==============================] - 10s 257us/step - loss: 0.8093 - acc: 0.7129 - val_loss: 0.7912 - val_acc: 0.7243\n",
            "Epoch 6/20\n",
            "40000/40000 [==============================] - 10s 261us/step - loss: 0.7594 - acc: 0.7338 - val_loss: 0.7340 - val_acc: 0.7486\n",
            "Epoch 7/20\n",
            "40000/40000 [==============================] - 10s 262us/step - loss: 0.7028 - acc: 0.7532 - val_loss: 0.7585 - val_acc: 0.7425\n",
            "Epoch 8/20\n",
            "40000/40000 [==============================] - 10s 258us/step - loss: 0.6676 - acc: 0.7638 - val_loss: 0.6879 - val_acc: 0.7588\n",
            "Epoch 9/20\n",
            "40000/40000 [==============================] - 10s 256us/step - loss: 0.6314 - acc: 0.7768 - val_loss: 0.7155 - val_acc: 0.7578\n",
            "Epoch 10/20\n",
            "40000/40000 [==============================] - 10s 258us/step - loss: 0.5978 - acc: 0.7890 - val_loss: 0.7019 - val_acc: 0.7627\n",
            "Epoch 11/20\n",
            "40000/40000 [==============================] - 10s 258us/step - loss: 0.5702 - acc: 0.7994 - val_loss: 0.6728 - val_acc: 0.7743\n",
            "Epoch 12/20\n",
            "40000/40000 [==============================] - 10s 258us/step - loss: 0.5397 - acc: 0.8093 - val_loss: 0.6991 - val_acc: 0.7722\n",
            "Epoch 13/20\n",
            "40000/40000 [==============================] - 10s 258us/step - loss: 0.5243 - acc: 0.8148 - val_loss: 0.6951 - val_acc: 0.7740\n",
            "Epoch 14/20\n",
            "40000/40000 [==============================] - 10s 258us/step - loss: 0.5018 - acc: 0.8231 - val_loss: 0.7010 - val_acc: 0.7698\n",
            "Epoch 15/20\n",
            "40000/40000 [==============================] - 10s 257us/step - loss: 0.4878 - acc: 0.8289 - val_loss: 0.6969 - val_acc: 0.7788\n",
            "Epoch 16/20\n",
            "40000/40000 [==============================] - 10s 257us/step - loss: 0.4708 - acc: 0.8346 - val_loss: 0.6864 - val_acc: 0.7809\n",
            "Epoch 17/20\n",
            "40000/40000 [==============================] - 10s 256us/step - loss: 0.4539 - acc: 0.8392 - val_loss: 0.6756 - val_acc: 0.7837\n",
            "Epoch 18/20\n",
            "40000/40000 [==============================] - 10s 259us/step - loss: 0.4448 - acc: 0.8422 - val_loss: 0.7358 - val_acc: 0.7672\n",
            "Epoch 19/20\n",
            "40000/40000 [==============================] - 10s 260us/step - loss: 0.4277 - acc: 0.8484 - val_loss: 0.7317 - val_acc: 0.7731\n",
            "Epoch 20/20\n",
            "40000/40000 [==============================] - 10s 257us/step - loss: 0.4196 - acc: 0.8526 - val_loss: 0.7054 - val_acc: 0.7827\n"
          ],
          "name": "stdout"
        }
      ]
    },
    {
      "cell_type": "markdown",
      "metadata": {
        "id": "qO9-MU1zxHZV",
        "colab_type": "text"
      },
      "source": [
        "After you've done training, we can visualize the model training and validation loss as well as training / validation accuracy over the number of epochs using the below code:"
      ]
    },
    {
      "cell_type": "code",
      "metadata": {
        "id": "etbzJ9K4xHZV",
        "colab_type": "code",
        "colab": {
          "base_uri": "https://localhost:8080/",
          "height": 295
        },
        "outputId": "6bf6f651-ed3d-44fb-9e0f-c371580a7fee"
      },
      "source": [
        "plt.plot(hist.history['loss'])\n",
        "plt.plot(hist.history['val_loss'])\n",
        "plt.title('Model loss')\n",
        "plt.ylabel('Loss')\n",
        "plt.xlabel('Epoch')\n",
        "plt.legend(['Train', 'Val'], loc='upper right')\n",
        "plt.show()"
      ],
      "execution_count": 28,
      "outputs": [
        {
          "output_type": "display_data",
          "data": {
            "image/png": "[encoded data removed]",
            "text/plain": [
              "<Figure size 432x288 with 1 Axes>"
            ]
          },
          "metadata": {
            "tags": []
          }
        }
      ]
    },
    {
      "cell_type": "code",
      "metadata": {
        "id": "CSerleRnxHZX",
        "colab_type": "code",
        "colab": {
          "base_uri": "https://localhost:8080/",
          "height": 295
        },
        "outputId": "eab73d55-1dcd-4c37-9d4c-d1f661a259a7"
      },
      "source": [
        "plt.plot(hist.history['acc'])\n",
        "plt.plot(hist.history['val_acc'])\n",
        "plt.title('Model accuracy')\n",
        "plt.ylabel('Accuracy')\n",
        "plt.xlabel('Epoch')\n",
        "plt.legend(['Train', 'Val'], loc='lower right')\n",
        "plt.show()"
      ],
      "execution_count": 29,
      "outputs": [
        {
          "output_type": "display_data",
          "data": {
            "image/png": "[encoded data removed]",
            "text/plain": [
              "<Figure size 432x288 with 1 Axes>"
            ]
          },
          "metadata": {
            "tags": []
          }
        }
      ]
    },
    {
      "cell_type": "markdown",
      "metadata": {
        "id": "1Xvlul6-xHZa",
        "colab_type": "text"
      },
      "source": [
        "Once we are done with tweaking our hyperparameters, we can run it on our test dataset below:"
      ]
    },
    {
      "cell_type": "code",
      "metadata": {
        "id": "LyYPTxrJxHZa",
        "colab_type": "code",
        "colab": {
          "base_uri": "https://localhost:8080/",
          "height": 53
        },
        "outputId": "4376901d-c5cb-4bfc-e869-1cffba51ce7a"
      },
      "source": [
        "model.evaluate(x_test, y_test_one_hot)[1]"
      ],
      "execution_count": 30,
      "outputs": [
        {
          "output_type": "stream",
          "text": [
            "10000/10000 [==============================] - 1s 87us/step\n"
          ],
          "name": "stdout"
        },
        {
          "output_type": "execute_result",
          "data": {
            "text/plain": [
              "0.7709"
            ]
          },
          "metadata": {
            "tags": []
          },
          "execution_count": 30
        }
      ]
    },
    {
      "cell_type": "markdown",
      "metadata": {
        "id": "x8QTOqi_xHZc",
        "colab_type": "text"
      },
      "source": [
        "At this point, you might want to save your trained model (since you've spent so long waiting for it to train). The model will be saved in a file format called HDF5 (with the extension .h5). We save our model with this line of code:"
      ]
    },
    {
      "cell_type": "code",
      "metadata": {
        "id": "OfdayWKAxHZd",
        "colab_type": "code",
        "colab": {}
      },
      "source": [
        "model.save('my_cifar10_model.h5')"
      ],
      "execution_count": 0,
      "outputs": []
    },
    {
      "cell_type": "markdown",
      "metadata": {
        "id": "K5C5YM2cxHZe",
        "colab_type": "text"
      },
      "source": [
        "# Testing out with your own images"
      ]
    },
    {
      "cell_type": "markdown",
      "metadata": {
        "id": "ZMzTZdxExHZf",
        "colab_type": "text"
      },
      "source": [
        "Now that we have a model, let's try it on our own images. To do so, place your image in the same directory as your notebook. For the purposes of this post, I'm going to use an image of a cat (which you can download here(link)). Now, we read in our JPEG file as an array of pixel values:"
      ]
    },
    {
      "cell_type": "code",
      "metadata": {
        "id": "P62mNS1J46fo",
        "colab_type": "code",
        "colab": {
          "base_uri": "https://localhost:8080/",
          "height": 127
        },
        "outputId": "3a0b5427-3f31-49fc-cbb3-ebe7d8b9a928"
      },
      "source": [
        "from google.colab import drive\n",
        "\n",
        "drive.mount('/content/gdrive')"
      ],
      "execution_count": 35,
      "outputs": [
        {
          "output_type": "stream",
          "text": [
            "Go to this URL in a browser: https://accounts.google.com/o/oauth2/auth?client_id=947318989803-6bn6qk8qdgf4n4g3pfee6491hc0brc4i.apps.googleusercontent.com&redirect_uri=urn%3Aietf%3Awg%3Aoauth%3A2.0%3Aoob&scope=email%20https%3A%2F%2Fwww.googleapis.com%2Fauth%2Fdocs.test%20https%3A%2F%2Fwww.googleapis.com%2Fauth%2Fdrive%20https%3A%2F%2Fwww.googleapis.com%2Fauth%2Fdrive.photos.readonly%20https%3A%2F%2Fwww.googleapis.com%2Fauth%2Fpeopleapi.readonly&response_type=code\n",
            "\n",
            "Enter your authorization code:\n",
            "··········\n",
            "Mounted at /content/gdrive\n"
          ],
          "name": "stdout"
        }
      ]
    },
    {
      "cell_type": "code",
      "metadata": {
        "id": "J1Lfak6txHZf",
        "colab_type": "code",
        "colab": {}
      },
      "source": [
        "#@title 기본 제목 텍스트\n",
        "my_image = plt.imread(\"/content/gdrive/My Drive/cat.jpg\")"
      ],
      "execution_count": 0,
      "outputs": []
    },
    {
      "cell_type": "markdown",
      "metadata": {
        "id": "0Tta7unuxHZn",
        "colab_type": "text"
      },
      "source": [
        "The first thing we have to do is to resize the image of our cat so that we can fit it into our model (input size of 32 * 32 * 3)."
      ]
    },
    {
      "cell_type": "code",
      "metadata": {
        "id": "Cpxm2f0wxHZo",
        "colab_type": "code",
        "colab": {
          "base_uri": "https://localhost:8080/",
          "height": 89
        },
        "outputId": "cba5dc2e-3f65-4b78-8c49-5178149ae3e5"
      },
      "source": [
        "from skimage.transform import resize\n",
        "my_image_resized = resize(my_image, (32,32,3))"
      ],
      "execution_count": 37,
      "outputs": [
        {
          "output_type": "stream",
          "text": [
            "/usr/local/lib/python2.7/dist-packages/skimage/transform/_warps.py:105: UserWarning: The default mode, 'constant', will be changed to 'reflect' in skimage 0.15.\n",
            "  warn(\"The default mode, 'constant', will be changed to 'reflect' in \"\n",
            "/usr/local/lib/python2.7/dist-packages/skimage/transform/_warps.py:110: UserWarning: Anti-aliasing will be enabled by default in skimage 0.15 to avoid aliasing artifacts when down-sampling images.\n",
            "  warn(\"Anti-aliasing will be enabled by default in skimage 0.15 to \"\n"
          ],
          "name": "stderr"
        }
      ]
    },
    {
      "cell_type": "code",
      "metadata": {
        "id": "sMIWFXGNxHZr",
        "colab_type": "code",
        "colab": {
          "base_uri": "https://localhost:8080/",
          "height": 269
        },
        "outputId": "bb406fe1-3a97-47e6-8fba-36c397c63027"
      },
      "source": [
        "img = plt.imshow(my_image_resized)"
      ],
      "execution_count": 38,
      "outputs": [
        {
          "output_type": "display_data",
          "data": {
            "image/png": "[encoded data removed]",
            "text/plain": [
              "<Figure size 432x288 with 1 Axes>"
            ]
          },
          "metadata": {
            "tags": []
          }
        }
      ]
    },
    {
      "cell_type": "markdown",
      "metadata": {
        "id": "NGNEbehSxHZs",
        "colab_type": "text"
      },
      "source": [
        "And now, we see what our trained model will output when given an image of our cat, using this code:"
      ]
    },
    {
      "cell_type": "code",
      "metadata": {
        "id": "NARl-R-3xHZu",
        "colab_type": "code",
        "colab": {}
      },
      "source": [
        "import numpy as np\n",
        "probabilities = model.predict(np.array( [my_image_resized,] ))"
      ],
      "execution_count": 0,
      "outputs": []
    },
    {
      "cell_type": "code",
      "metadata": {
        "id": "Pp1kGCZSxHZw",
        "colab_type": "code",
        "colab": {
          "base_uri": "https://localhost:8080/",
          "height": 71
        },
        "outputId": "7213174e-fbf4-43fb-94d1-98b35a911f6e"
      },
      "source": [
        "probabilities"
      ],
      "execution_count": 40,
      "outputs": [
        {
          "output_type": "execute_result",
          "data": {
            "text/plain": [
              "array([[0.00916338, 0.00112396, 0.010738  , 0.15327607, 0.03024462,\n",
              "        0.58831954, 0.00418553, 0.19920214, 0.0030029 , 0.00074382]],\n",
              "      dtype=float32)"
            ]
          },
          "metadata": {
            "tags": []
          },
          "execution_count": 40
        }
      ]
    },
    {
      "cell_type": "code",
      "metadata": {
        "id": "A-exg6RyxHZy",
        "colab_type": "code",
        "colab": {
          "base_uri": "https://localhost:8080/",
          "height": 107
        },
        "outputId": "d62d9ef2-8284-42f6-a188-e266dbbe3449"
      },
      "source": [
        "number_to_class = ['airplane', 'automobile', 'bird', 'cat', 'deer', 'dog', 'frog', 'horse', 'ship', 'truck']\n",
        "index = np.argsort(probabilities[0,:])\n",
        "print(\"Most likely class:\", number_to_class[index[9]], \"-- Probability:\", probabilities[0,index[9]])\n",
        "print(\"Second most likely class:\", number_to_class[index[8]], \"-- Probability:\", probabilities[0,index[8]])\n",
        "print(\"Third most likely class:\", number_to_class[index[7]], \"-- Probability:\", probabilities[0,index[7]])\n",
        "print(\"Fourth most likely class:\", number_to_class[index[6]], \"-- Probability:\", probabilities[0,index[6]])\n",
        "print(\"Fifth most likely class:\", number_to_class[index[5]], \"-- Probability:\", probabilities[0,index[5]])"
      ],
      "execution_count": 41,
      "outputs": [
        {
          "output_type": "stream",
          "text": [
            "('Most likely class:', 'dog', '-- Probability:', 0.58831954)\n",
            "('Second most likely class:', 'horse', '-- Probability:', 0.19920214)\n",
            "('Third most likely class:', 'cat', '-- Probability:', 0.15327607)\n",
            "('Fourth most likely class:', 'deer', '-- Probability:', 0.030244617)\n",
            "('Fifth most likely class:', 'bird', '-- Probability:', 0.010737996)\n"
          ],
          "name": "stdout"
        }
      ]
    },
    {
      "cell_type": "markdown",
      "metadata": {
        "id": "LhQRmWIAxHZ0",
        "colab_type": "text"
      },
      "source": [
        "As you can see, the model has accurately predicted that this is indeed an image of a cat. Now, this isn't the best model we have and accuracy has been quite low, so don't expect too much out of it. This post has covered the very fundamentals of CNNs on a very simple dataset; we'll cover how to build state-of-the-art models in future posts. Nevertheless, you should be able to get some pretty cool results from your own images (some images that you can try this out on are in the GitHub folder)."
      ]
    }
  ]
}